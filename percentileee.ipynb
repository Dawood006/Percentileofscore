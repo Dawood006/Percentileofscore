{
 "cells": [
  {
   "cell_type": "code",
   "execution_count": 9,
   "id": "4161ec0c-0820-4dd8-818b-3dbafe5960bb",
   "metadata": {},
   "outputs": [],
   "source": [
    "import numpy  as np\n",
    "a=[1,22,33,1,2,4,56,6,6,6,7]\n",
    "a.sort()"
   ]
  },
  {
   "cell_type": "code",
   "execution_count": 5,
   "id": "92ae65f4-a4da-4569-bdf5-bfcef95279b8",
   "metadata": {},
   "outputs": [],
   "source": [
    "def percentilee(x,num):\n",
    "    z=sum(i+1 for i,v in enumerate(x) if v==num)/x.count(num)\n",
    "    percentile=(z/len(x))*100\n",
    "    print(\"Percentile >>\",percentile)\n",
    "    "
   ]
  },
  {
   "cell_type": "code",
   "execution_count": 13,
   "id": "431efec3-679d-42ea-bbd2-81c35dad3e50",
   "metadata": {},
   "outputs": [
    {
     "name": "stdout",
     "output_type": "stream",
     "text": [
      "Percentile >> 100.0\n",
      "Percentile >> 54.54545454545454\n"
     ]
    },
    {
     "data": {
      "text/plain": [
       "(None, None)"
      ]
     },
     "execution_count": 13,
     "metadata": {},
     "output_type": "execute_result"
    }
   ],
   "source": [
    "percentilee(a,56),percentilee(a,6)"
   ]
  },
  {
   "cell_type": "code",
   "execution_count": 19,
   "id": "7c556320-b35b-4fba-967c-83998a000b5e",
   "metadata": {},
   "outputs": [
    {
     "data": {
      "text/plain": [
       "54.54545454545455"
      ]
     },
     "execution_count": 19,
     "metadata": {},
     "output_type": "execute_result"
    }
   ],
   "source": [
    "#in_built function\n",
    "import scipy\n",
    "scipy.stats.percentileofscore(a,56),scipy.stats.percentileofscore(a,6)\n"
   ]
  },
  {
   "cell_type": "code",
   "execution_count": null,
   "id": "7296891e-c1e3-4763-a759-f95b673c6d51",
   "metadata": {},
   "outputs": [],
   "source": []
  },
  {
   "cell_type": "code",
   "execution_count": null,
   "id": "6d6747ba-2a53-4bd9-a71c-17ad011135cb",
   "metadata": {},
   "outputs": [],
   "source": []
  },
  {
   "cell_type": "code",
   "execution_count": null,
   "id": "65a7638b-e829-40d9-a8c0-84fb6a92ee79",
   "metadata": {},
   "outputs": [],
   "source": []
  },
  {
   "cell_type": "code",
   "execution_count": null,
   "id": "772bf05e-a84b-466b-a04a-e6a34d929334",
   "metadata": {},
   "outputs": [],
   "source": []
  },
  {
   "cell_type": "code",
   "execution_count": null,
   "id": "81dd6e0e-752a-4b74-ad9c-c4b8380cd00c",
   "metadata": {},
   "outputs": [],
   "source": []
  },
  {
   "cell_type": "code",
   "execution_count": null,
   "id": "c15de8c5-0562-4b52-b3d2-f863eb487a29",
   "metadata": {},
   "outputs": [],
   "source": []
  }
 ],
 "metadata": {
  "kernelspec": {
   "display_name": "Python 3 (ipykernel)",
   "language": "python",
   "name": "python3"
  },
  "language_info": {
   "codemirror_mode": {
    "name": "ipython",
    "version": 3
   },
   "file_extension": ".py",
   "mimetype": "text/x-python",
   "name": "python",
   "nbconvert_exporter": "python",
   "pygments_lexer": "ipython3",
   "version": "3.12.5"
  }
 },
 "nbformat": 4,
 "nbformat_minor": 5
}
