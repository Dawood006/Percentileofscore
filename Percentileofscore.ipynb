{
 "cells": [
  {
   "cell_type": "code",
   "execution_count": 1,
   "id": "e4f77beb-11fc-4f13-bb6b-079fad8349a8",
   "metadata": {},
   "outputs": [],
   "source": [
    "import numpy"
   ]
  },
  {
   "cell_type": "code",
   "execution_count": 5,
   "id": "2b205335-d483-467e-aac9-aa2fab045472",
   "metadata": {},
   "outputs": [],
   "source": [
    "a=[1,22,33,1,2,4,56,6,6,6,7]\n",
    "a.sort()"
   ]
  },
  {
   "cell_type": "code",
   "execution_count": 7,
   "id": "0060396f-d93c-4961-bc48-e6b67f3d5f50",
   "metadata": {},
   "outputs": [],
   "source": [
    "def percentilee(x,num):\n",
    "    d=x.index(num)+1 #Indexing in python starts from zero\n",
    "    c=x.count(num)\n",
    "    for i in range(1,c):\n",
    "        d+=0.5\n",
    "    d\n",
    "    percentile=(d/len(x))*100\n",
    "    print(\"Percentile >>\",percentile)"
   ]
  },
  {
   "cell_type": "code",
   "execution_count": 19,
   "id": "5c959e7b-e222-4ac7-ab43-00fd8d0791fd",
   "metadata": {},
   "outputs": [
    {
     "name": "stdout",
     "output_type": "stream",
     "text": [
      "Percentile >> 54.54545454545454\n",
      "Percentile >> 100.0\n"
     ]
    },
    {
     "data": {
      "text/plain": [
       "(None, None)"
      ]
     },
     "execution_count": 19,
     "metadata": {},
     "output_type": "execute_result"
    }
   ],
   "source": [
    "percentilee(a,6),percentilee(a,56)"
   ]
  },
  {
   "cell_type": "code",
   "execution_count": 13,
   "id": "327baae7-849e-4bc7-bc2e-b465421f488d",
   "metadata": {},
   "outputs": [
    {
     "data": {
      "text/plain": [
       "[1, 1, 2, 4, 6, 6, 6, 7, 22, 33, 56]"
      ]
     },
     "execution_count": 13,
     "metadata": {},
     "output_type": "execute_result"
    }
   ],
   "source": [
    "a"
   ]
  },
  {
   "cell_type": "code",
   "execution_count": null,
   "id": "a3ab4be8-8c8a-4aea-897c-f1a5be7d72e1",
   "metadata": {},
   "outputs": [],
   "source": []
  },
  {
   "cell_type": "code",
   "execution_count": null,
   "id": "7cf9561e-09cd-4dd5-8e59-597620a6a5bd",
   "metadata": {},
   "outputs": [],
   "source": []
  }
 ],
 "metadata": {
  "kernelspec": {
   "display_name": "Python 3 (ipykernel)",
   "language": "python",
   "name": "python3"
  },
  "language_info": {
   "codemirror_mode": {
    "name": "ipython",
    "version": 3
   },
   "file_extension": ".py",
   "mimetype": "text/x-python",
   "name": "python",
   "nbconvert_exporter": "python",
   "pygments_lexer": "ipython3",
   "version": "3.12.5"
  }
 },
 "nbformat": 4,
 "nbformat_minor": 5
}
